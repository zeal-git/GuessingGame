{
 "cells": [
  {
   "cell_type": "code",
   "execution_count": 2,
   "id": "6569573a-2452-4074-9569-79a6d76f740e",
   "metadata": {},
   "outputs": [
    {
     "name": "stdout",
     "output_type": "stream",
     "text": [
      "Welcome to the Number Guessing Game!\n"
     ]
    },
    {
     "name": "stdin",
     "output_type": "stream",
     "text": [
      "Guess a number between 1 and 100:  20\n"
     ]
    },
    {
     "name": "stdout",
     "output_type": "stream",
     "text": [
      "Too low. insert again!\n"
     ]
    },
    {
     "name": "stdin",
     "output_type": "stream",
     "text": [
      "Guess a number between 1 and 100:  30\n"
     ]
    },
    {
     "name": "stdout",
     "output_type": "stream",
     "text": [
      "Too low. insert again!\n"
     ]
    },
    {
     "name": "stdin",
     "output_type": "stream",
     "text": [
      "Guess a number between 1 and 100:  40\n"
     ]
    },
    {
     "name": "stdout",
     "output_type": "stream",
     "text": [
      "Too low. insert again!\n"
     ]
    },
    {
     "name": "stdin",
     "output_type": "stream",
     "text": [
      "Guess a number between 1 and 100:  50\n"
     ]
    },
    {
     "name": "stdout",
     "output_type": "stream",
     "text": [
      "Too low. insert again!\n"
     ]
    },
    {
     "name": "stdin",
     "output_type": "stream",
     "text": [
      "Guess a number between 1 and 100:  93\n"
     ]
    },
    {
     "name": "stdout",
     "output_type": "stream",
     "text": [
      "Too high. insert again!\n"
     ]
    },
    {
     "name": "stdin",
     "output_type": "stream",
     "text": [
      "Guess a number between 1 and 100:  2\n"
     ]
    },
    {
     "name": "stdout",
     "output_type": "stream",
     "text": [
      "Too low. insert again!\n"
     ]
    },
    {
     "name": "stdin",
     "output_type": "stream",
     "text": [
      "Guess a number between 1 and 100:  33\n"
     ]
    },
    {
     "name": "stdout",
     "output_type": "stream",
     "text": [
      "Too low. insert again!\n"
     ]
    },
    {
     "name": "stdin",
     "output_type": "stream",
     "text": [
      "Guess a number between 1 and 100:  88\n"
     ]
    },
    {
     "name": "stdout",
     "output_type": "stream",
     "text": [
      "Too low. insert again!\n"
     ]
    },
    {
     "name": "stdin",
     "output_type": "stream",
     "text": [
      "Guess a number between 1 and 100:  99\n"
     ]
    },
    {
     "name": "stdout",
     "output_type": "stream",
     "text": [
      "Too high. insert again!\n"
     ]
    },
    {
     "name": "stdin",
     "output_type": "stream",
     "text": [
      "Guess a number between 1 and 100:  31\n"
     ]
    },
    {
     "name": "stdout",
     "output_type": "stream",
     "text": [
      "Too low. insert again!\n",
      "Sorry, The choosen number is 92.\n"
     ]
    }
   ],
   "source": [
    "\n",
    "import random\n",
    "\n",
    "\n",
    "lower_bound = 1\n",
    "upper_bound = 100\n",
    "max_attempts = 10\n",
    "\n",
    "\n",
    "choosen_number = random.randint(lower_bound, upper_bound)\n",
    "\n",
    "\n",
    "def try_guess():\n",
    "    while True:\n",
    "        try:\n",
    "            guess = int(input(f\"Guess a number between {lower_bound} and {upper_bound}: \"))\n",
    "            if lower_bound <= guess <= upper_bound:\n",
    "                return guess\n",
    "            else:\n",
    "                print(\"Invalid input. Please enter a number within the specified range.\")\n",
    "        except ValueError:\n",
    "            print(\"Invalid input. Please enter a valid number.\")\n",
    "\n",
    "\n",
    "def check_guess(guess, choosen_number):\n",
    "    if guess == choosen_number:\n",
    "        return \"Correct\"\n",
    "    elif guess < choosen_number:\n",
    "        return \"Too low\"\n",
    "    else:\n",
    "        return \"Too high\"\n",
    "\n",
    "\n",
    "def game_time():\n",
    "    attempts = 0\n",
    "    won = False\n",
    "\n",
    "    while attempts < max_attempts:\n",
    "        attempts += 1\n",
    "        guess = try_guess()\n",
    "        result = check_guess(guess, choosen_number)\n",
    "\n",
    "        if result == \"Correct\":\n",
    "            print(f\"Congratulations! You guessed the choosen number {choosen_number} in {attempts} attempts.\")\n",
    "            won = True\n",
    "            break\n",
    "        else:\n",
    "            print(f\"{result}. insert again!\")\n",
    "\n",
    "    if not won:\n",
    "        print(f\"Sorry, The choosen number is {choosen_number}.\")\n",
    "\n",
    "if __name__ == \"__main__\":\n",
    "    print(\"Welcome to the Number Guessing Game!\")\n",
    "    game_time()"
   ]
  },
  {
   "cell_type": "code",
   "execution_count": null,
   "id": "bcdf5ef9-e615-408d-8ceb-137b49ae5475",
   "metadata": {},
   "outputs": [],
   "source": []
  }
 ],
 "metadata": {
  "kernelspec": {
   "display_name": "Python 3 (ipykernel)",
   "language": "python",
   "name": "python3"
  },
  "language_info": {
   "codemirror_mode": {
    "name": "ipython",
    "version": 3
   },
   "file_extension": ".py",
   "mimetype": "text/x-python",
   "name": "python",
   "nbconvert_exporter": "python",
   "pygments_lexer": "ipython3",
   "version": "3.12.4"
  }
 },
 "nbformat": 4,
 "nbformat_minor": 5
}
